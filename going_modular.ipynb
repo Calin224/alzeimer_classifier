{
 "cells": [
  {
   "cell_type": "code",
   "id": "initial_id",
   "metadata": {
    "collapsed": true,
    "jupyter": {
     "outputs_hidden": true
    },
    "ExecuteTime": {
     "end_time": "2025-04-26T16:36:12.843938Z",
     "start_time": "2025-04-26T16:36:12.838777Z"
    }
   },
   "source": [
    "import torch"
   ],
   "outputs": [],
   "execution_count": 76
  },
  {
   "cell_type": "code",
   "id": "be86c701fb145b1c",
   "metadata": {
    "ExecuteTime": {
     "end_time": "2025-04-26T16:36:12.904378Z",
     "start_time": "2025-04-26T16:36:12.898013Z"
    }
   },
   "source": [
    "device = \"cuda\" if torch.cuda.is_available() else \"cpu\"\n",
    "print(device)"
   ],
   "outputs": [
    {
     "name": "stdout",
     "output_type": "stream",
     "text": [
      "cuda\n"
     ]
    }
   ],
   "execution_count": 77
  },
  {
   "cell_type": "code",
   "id": "add02b8c65e64f39",
   "metadata": {
    "ExecuteTime": {
     "end_time": "2025-04-26T16:36:12.960829Z",
     "start_time": "2025-04-26T16:36:12.954557Z"
    }
   },
   "source": [
    "%%writefile data_setup.py\n",
    "\n",
    "import os\n",
    "from torchvision import datasets, transforms\n",
    "from torch.utils.data import DataLoader\n",
    "\n",
    "NUM_WORKERS = os.cpu_count()\n",
    "\n",
    "def create_dataloader(train_dir: str,\n",
    "                      test_dir: str,\n",
    "                      transforms: transforms.Compose,\n",
    "                      batch_size: int = 32,\n",
    "                      num_workers: int = NUM_WORKERS):\n",
    "    train_data = datasets.ImageFolder(root=train_dir, transform=transforms)\n",
    "    test_data = datasets.ImageFolder(root=test_dir, transform=transforms)\n",
    "\n",
    "    class_names = train_data.classes\n",
    "\n",
    "    train_dataloader = DataLoader(train_data, batch_size=batch_size, shuffle=True, num_workers=num_workers)\n",
    "    test_dataloader = DataLoader(test_data, batch_size=batch_size, shuffle=False, num_workers=num_workers)\n",
    "\n",
    "    return train_dataloader, test_dataloader, class_names"
   ],
   "outputs": [
    {
     "name": "stdout",
     "output_type": "stream",
     "text": [
      "Overwriting data_setup.py\n"
     ]
    }
   ],
   "execution_count": 78
  },
  {
   "cell_type": "code",
   "id": "c8245635655bc566",
   "metadata": {
    "ExecuteTime": {
     "end_time": "2025-04-26T16:36:13.022903Z",
     "start_time": "2025-04-26T16:36:13.017728Z"
    }
   },
   "source": [
    "import os\n",
    "from pathlib import Path\n",
    "\n",
    "train_dir = Path(\"data/train\")\n",
    "test_dir = Path(\"data/val\")\n",
    "train_dir, test_dir"
   ],
   "outputs": [
    {
     "data": {
      "text/plain": [
       "(WindowsPath('data/train'), WindowsPath('data/val'))"
      ]
     },
     "execution_count": 79,
     "metadata": {},
     "output_type": "execute_result"
    }
   ],
   "execution_count": 79
  },
  {
   "cell_type": "code",
   "id": "10ea4b5687dfa8c4",
   "metadata": {
    "ExecuteTime": {
     "end_time": "2025-04-26T16:36:13.074588Z",
     "start_time": "2025-04-26T16:36:13.068305Z"
    }
   },
   "source": [
    "%%writefile engine.py\n",
    "\n",
    "import torch\n",
    "from tqdm.auto import tqdm\n",
    "from typing import Dict, List, Tuple\n",
    "\n",
    "def train_step(model: torch.nn.Module,\n",
    "               dataloader: torch.utils.data.DataLoader,\n",
    "               loss_fn: torch.nn.Module,\n",
    "               optimizer: torch.optim.Optimizer,\n",
    "               device: torch.device):\n",
    "    train_loss, train_acc = 0, 0\n",
    "\n",
    "    model.train()\n",
    "\n",
    "    for batch, (X, y) in enumerate(dataloader):\n",
    "        X, y = X.to(device), y.to(device)\n",
    "\n",
    "        y_pred = model(X)\n",
    "\n",
    "        loss = loss_fn(y_pred, y)\n",
    "        train_loss += loss.item()\n",
    "\n",
    "        optimizer.zero_grad()\n",
    "        loss.backward()\n",
    "        optimizer.step()\n",
    "\n",
    "        y_pred_class = torch.argmax(torch.softmax(y_pred, dim=1), dim=1)\n",
    "        train_acc += (y_pred_class == y).sum().item() / len(y_pred)\n",
    "\n",
    "    train_loss /= len(dataloader)\n",
    "    train_acc /= len(dataloader)\n",
    "\n",
    "    return train_loss, train_acc\n",
    "\n",
    "def test_step(model: torch.nn.Module,\n",
    "              dataloader: torch.utils.data.DataLoader,\n",
    "              loss_fn: torch.nn.Module,\n",
    "              device: torch.device):\n",
    "    test_loss, test_acc = 0, 0\n",
    "\n",
    "    model.eval()\n",
    "    with torch.inference_mode():\n",
    "        for batch, (X, y) in enumerate(dataloader):\n",
    "            X, y = X.to(device), y.to(device)\n",
    "\n",
    "            test_pred = model(X)\n",
    "\n",
    "            loss = loss_fn(test_pred, y)\n",
    "            test_loss += loss.item()\n",
    "\n",
    "            test_pred_labels = test_pred.argmax(dim=1)\n",
    "            test_acc += (test_pred_labels == y).sum().item() / len(test_pred_labels)\n",
    "\n",
    "    test_loss /= len(dataloader)\n",
    "    test_acc /= len(dataloader)\n",
    "\n",
    "    return test_loss, test_acc\n",
    "\n",
    "def train(model: torch.nn.Module,\n",
    "          train_dataloader: torch.utils.data.DataLoader,\n",
    "          test_dataloader: torch.utils.data.DataLoader,\n",
    "          loss_fn: torch.nn.Module,\n",
    "          optimizer: torch.optim.Optimizer,\n",
    "          epochs: int,\n",
    "          device: torch.device):\n",
    "    results = {\n",
    "        \"train_loss\": [],\n",
    "        \"train_acc\": [],\n",
    "        \"test_loss\": [],\n",
    "        \"test_acc\": []\n",
    "    }\n",
    "\n",
    "    for epoch in tqdm(range(epochs)):\n",
    "        train_loss, train_acc = train_step(model=model,\n",
    "                                           dataloader=train_dataloader,\n",
    "                                           loss_fn=loss_fn,\n",
    "                                           optimizer=optimizer,\n",
    "                                           device=device)\n",
    "\n",
    "        test_loss, test_acc = test_step(model=model,\n",
    "                                        dataloader=test_dataloader,\n",
    "                                        loss_fn=loss_fn,\n",
    "                                        device=device)\n",
    "\n",
    "        print(f\"Epoch: {epoch+1}/{epochs}, Train Loss: {train_loss:.4f}, Train Acc: {train_acc:.4f}, Test Loss: {test_loss:.4f}, Test Acc: {test_acc:.4f}\")\n",
    "\n",
    "        results[\"train_loss\"].append(train_loss)\n",
    "        results[\"train_acc\"].append(train_acc)\n",
    "        results[\"test_loss\"].append(test_loss)\n",
    "        results[\"test_acc\"].append(test_acc)\n",
    "\n",
    "    return results"
   ],
   "outputs": [
    {
     "name": "stdout",
     "output_type": "stream",
     "text": [
      "Overwriting engine.py\n"
     ]
    }
   ],
   "execution_count": 80
  },
  {
   "cell_type": "code",
   "id": "1305064073189db7",
   "metadata": {
    "ExecuteTime": {
     "end_time": "2025-04-26T16:36:13.137888Z",
     "start_time": "2025-04-26T16:36:13.133312Z"
    }
   },
   "source": [
    "import torchvision\n",
    "from torchvision import transforms\n",
    "\n",
    "weights = torchvision.models.ResNet50_Weights.DEFAULT\n",
    "weights"
   ],
   "outputs": [
    {
     "data": {
      "text/plain": [
       "ResNet50_Weights.IMAGENET1K_V2"
      ]
     },
     "execution_count": 81,
     "metadata": {},
     "output_type": "execute_result"
    }
   ],
   "execution_count": 81
  },
  {
   "cell_type": "code",
   "id": "57f88bdabf2e39f7",
   "metadata": {
    "ExecuteTime": {
     "end_time": "2025-04-26T16:36:13.169953Z",
     "start_time": "2025-04-26T16:36:13.164643Z"
    }
   },
   "source": [
    "auto_transforms = weights.transforms()\n",
    "auto_transforms"
   ],
   "outputs": [
    {
     "data": {
      "text/plain": [
       "ImageClassification(\n",
       "    crop_size=[224]\n",
       "    resize_size=[232]\n",
       "    mean=[0.485, 0.456, 0.406]\n",
       "    std=[0.229, 0.224, 0.225]\n",
       "    interpolation=InterpolationMode.BILINEAR\n",
       ")"
      ]
     },
     "execution_count": 82,
     "metadata": {},
     "output_type": "execute_result"
    }
   ],
   "execution_count": 82
  },
  {
   "cell_type": "code",
   "id": "64229c16bd7adf0d",
   "metadata": {
    "ExecuteTime": {
     "end_time": "2025-04-26T16:36:13.331671Z",
     "start_time": "2025-04-26T16:36:13.231663Z"
    }
   },
   "source": [
    "import data_setup\n",
    "\n",
    "train_dataloader, test_dataloader, class_names = data_setup.create_dataloader(train_dir=train_dir,\n",
    "                                                                              test_dir=test_dir,\n",
    "                                                                              transforms=auto_transforms,\n",
    "                                                                              batch_size=32)\n",
    "\n",
    "train_dataloader, test_dataloader, class_names"
   ],
   "outputs": [
    {
     "data": {
      "text/plain": [
       "(<torch.utils.data.dataloader.DataLoader at 0x1ccf7fa7290>,\n",
       " <torch.utils.data.dataloader.DataLoader at 0x1ccf7fa5df0>,\n",
       " ['MildDemented', 'ModerateDemented', 'NonDemented', 'VeryMildDemented'])"
      ]
     },
     "execution_count": 83,
     "metadata": {},
     "output_type": "execute_result"
    }
   ],
   "execution_count": 83
  },
  {
   "cell_type": "code",
   "id": "5bd0d85353ca679",
   "metadata": {
    "ExecuteTime": {
     "end_time": "2025-04-26T18:18:25.032347Z",
     "start_time": "2025-04-26T18:18:24.585412Z"
    }
   },
   "source": [
    "weights = torchvision.models.ResNet50_Weights.DEFAULT\n",
    "model = torchvision.models.resnet50(weights=weights).to(device)\n",
    "model"
   ],
   "outputs": [
    {
     "data": {
      "text/plain": [
       "ResNet(\n",
       "  (conv1): Conv2d(3, 64, kernel_size=(7, 7), stride=(2, 2), padding=(3, 3), bias=False)\n",
       "  (bn1): BatchNorm2d(64, eps=1e-05, momentum=0.1, affine=True, track_running_stats=True)\n",
       "  (relu): ReLU(inplace=True)\n",
       "  (maxpool): MaxPool2d(kernel_size=3, stride=2, padding=1, dilation=1, ceil_mode=False)\n",
       "  (layer1): Sequential(\n",
       "    (0): Bottleneck(\n",
       "      (conv1): Conv2d(64, 64, kernel_size=(1, 1), stride=(1, 1), bias=False)\n",
       "      (bn1): BatchNorm2d(64, eps=1e-05, momentum=0.1, affine=True, track_running_stats=True)\n",
       "      (conv2): Conv2d(64, 64, kernel_size=(3, 3), stride=(1, 1), padding=(1, 1), bias=False)\n",
       "      (bn2): BatchNorm2d(64, eps=1e-05, momentum=0.1, affine=True, track_running_stats=True)\n",
       "      (conv3): Conv2d(64, 256, kernel_size=(1, 1), stride=(1, 1), bias=False)\n",
       "      (bn3): BatchNorm2d(256, eps=1e-05, momentum=0.1, affine=True, track_running_stats=True)\n",
       "      (relu): ReLU(inplace=True)\n",
       "      (downsample): Sequential(\n",
       "        (0): Conv2d(64, 256, kernel_size=(1, 1), stride=(1, 1), bias=False)\n",
       "        (1): BatchNorm2d(256, eps=1e-05, momentum=0.1, affine=True, track_running_stats=True)\n",
       "      )\n",
       "    )\n",
       "    (1): Bottleneck(\n",
       "      (conv1): Conv2d(256, 64, kernel_size=(1, 1), stride=(1, 1), bias=False)\n",
       "      (bn1): BatchNorm2d(64, eps=1e-05, momentum=0.1, affine=True, track_running_stats=True)\n",
       "      (conv2): Conv2d(64, 64, kernel_size=(3, 3), stride=(1, 1), padding=(1, 1), bias=False)\n",
       "      (bn2): BatchNorm2d(64, eps=1e-05, momentum=0.1, affine=True, track_running_stats=True)\n",
       "      (conv3): Conv2d(64, 256, kernel_size=(1, 1), stride=(1, 1), bias=False)\n",
       "      (bn3): BatchNorm2d(256, eps=1e-05, momentum=0.1, affine=True, track_running_stats=True)\n",
       "      (relu): ReLU(inplace=True)\n",
       "    )\n",
       "    (2): Bottleneck(\n",
       "      (conv1): Conv2d(256, 64, kernel_size=(1, 1), stride=(1, 1), bias=False)\n",
       "      (bn1): BatchNorm2d(64, eps=1e-05, momentum=0.1, affine=True, track_running_stats=True)\n",
       "      (conv2): Conv2d(64, 64, kernel_size=(3, 3), stride=(1, 1), padding=(1, 1), bias=False)\n",
       "      (bn2): BatchNorm2d(64, eps=1e-05, momentum=0.1, affine=True, track_running_stats=True)\n",
       "      (conv3): Conv2d(64, 256, kernel_size=(1, 1), stride=(1, 1), bias=False)\n",
       "      (bn3): BatchNorm2d(256, eps=1e-05, momentum=0.1, affine=True, track_running_stats=True)\n",
       "      (relu): ReLU(inplace=True)\n",
       "    )\n",
       "  )\n",
       "  (layer2): Sequential(\n",
       "    (0): Bottleneck(\n",
       "      (conv1): Conv2d(256, 128, kernel_size=(1, 1), stride=(1, 1), bias=False)\n",
       "      (bn1): BatchNorm2d(128, eps=1e-05, momentum=0.1, affine=True, track_running_stats=True)\n",
       "      (conv2): Conv2d(128, 128, kernel_size=(3, 3), stride=(2, 2), padding=(1, 1), bias=False)\n",
       "      (bn2): BatchNorm2d(128, eps=1e-05, momentum=0.1, affine=True, track_running_stats=True)\n",
       "      (conv3): Conv2d(128, 512, kernel_size=(1, 1), stride=(1, 1), bias=False)\n",
       "      (bn3): BatchNorm2d(512, eps=1e-05, momentum=0.1, affine=True, track_running_stats=True)\n",
       "      (relu): ReLU(inplace=True)\n",
       "      (downsample): Sequential(\n",
       "        (0): Conv2d(256, 512, kernel_size=(1, 1), stride=(2, 2), bias=False)\n",
       "        (1): BatchNorm2d(512, eps=1e-05, momentum=0.1, affine=True, track_running_stats=True)\n",
       "      )\n",
       "    )\n",
       "    (1): Bottleneck(\n",
       "      (conv1): Conv2d(512, 128, kernel_size=(1, 1), stride=(1, 1), bias=False)\n",
       "      (bn1): BatchNorm2d(128, eps=1e-05, momentum=0.1, affine=True, track_running_stats=True)\n",
       "      (conv2): Conv2d(128, 128, kernel_size=(3, 3), stride=(1, 1), padding=(1, 1), bias=False)\n",
       "      (bn2): BatchNorm2d(128, eps=1e-05, momentum=0.1, affine=True, track_running_stats=True)\n",
       "      (conv3): Conv2d(128, 512, kernel_size=(1, 1), stride=(1, 1), bias=False)\n",
       "      (bn3): BatchNorm2d(512, eps=1e-05, momentum=0.1, affine=True, track_running_stats=True)\n",
       "      (relu): ReLU(inplace=True)\n",
       "    )\n",
       "    (2): Bottleneck(\n",
       "      (conv1): Conv2d(512, 128, kernel_size=(1, 1), stride=(1, 1), bias=False)\n",
       "      (bn1): BatchNorm2d(128, eps=1e-05, momentum=0.1, affine=True, track_running_stats=True)\n",
       "      (conv2): Conv2d(128, 128, kernel_size=(3, 3), stride=(1, 1), padding=(1, 1), bias=False)\n",
       "      (bn2): BatchNorm2d(128, eps=1e-05, momentum=0.1, affine=True, track_running_stats=True)\n",
       "      (conv3): Conv2d(128, 512, kernel_size=(1, 1), stride=(1, 1), bias=False)\n",
       "      (bn3): BatchNorm2d(512, eps=1e-05, momentum=0.1, affine=True, track_running_stats=True)\n",
       "      (relu): ReLU(inplace=True)\n",
       "    )\n",
       "    (3): Bottleneck(\n",
       "      (conv1): Conv2d(512, 128, kernel_size=(1, 1), stride=(1, 1), bias=False)\n",
       "      (bn1): BatchNorm2d(128, eps=1e-05, momentum=0.1, affine=True, track_running_stats=True)\n",
       "      (conv2): Conv2d(128, 128, kernel_size=(3, 3), stride=(1, 1), padding=(1, 1), bias=False)\n",
       "      (bn2): BatchNorm2d(128, eps=1e-05, momentum=0.1, affine=True, track_running_stats=True)\n",
       "      (conv3): Conv2d(128, 512, kernel_size=(1, 1), stride=(1, 1), bias=False)\n",
       "      (bn3): BatchNorm2d(512, eps=1e-05, momentum=0.1, affine=True, track_running_stats=True)\n",
       "      (relu): ReLU(inplace=True)\n",
       "    )\n",
       "  )\n",
       "  (layer3): Sequential(\n",
       "    (0): Bottleneck(\n",
       "      (conv1): Conv2d(512, 256, kernel_size=(1, 1), stride=(1, 1), bias=False)\n",
       "      (bn1): BatchNorm2d(256, eps=1e-05, momentum=0.1, affine=True, track_running_stats=True)\n",
       "      (conv2): Conv2d(256, 256, kernel_size=(3, 3), stride=(2, 2), padding=(1, 1), bias=False)\n",
       "      (bn2): BatchNorm2d(256, eps=1e-05, momentum=0.1, affine=True, track_running_stats=True)\n",
       "      (conv3): Conv2d(256, 1024, kernel_size=(1, 1), stride=(1, 1), bias=False)\n",
       "      (bn3): BatchNorm2d(1024, eps=1e-05, momentum=0.1, affine=True, track_running_stats=True)\n",
       "      (relu): ReLU(inplace=True)\n",
       "      (downsample): Sequential(\n",
       "        (0): Conv2d(512, 1024, kernel_size=(1, 1), stride=(2, 2), bias=False)\n",
       "        (1): BatchNorm2d(1024, eps=1e-05, momentum=0.1, affine=True, track_running_stats=True)\n",
       "      )\n",
       "    )\n",
       "    (1): Bottleneck(\n",
       "      (conv1): Conv2d(1024, 256, kernel_size=(1, 1), stride=(1, 1), bias=False)\n",
       "      (bn1): BatchNorm2d(256, eps=1e-05, momentum=0.1, affine=True, track_running_stats=True)\n",
       "      (conv2): Conv2d(256, 256, kernel_size=(3, 3), stride=(1, 1), padding=(1, 1), bias=False)\n",
       "      (bn2): BatchNorm2d(256, eps=1e-05, momentum=0.1, affine=True, track_running_stats=True)\n",
       "      (conv3): Conv2d(256, 1024, kernel_size=(1, 1), stride=(1, 1), bias=False)\n",
       "      (bn3): BatchNorm2d(1024, eps=1e-05, momentum=0.1, affine=True, track_running_stats=True)\n",
       "      (relu): ReLU(inplace=True)\n",
       "    )\n",
       "    (2): Bottleneck(\n",
       "      (conv1): Conv2d(1024, 256, kernel_size=(1, 1), stride=(1, 1), bias=False)\n",
       "      (bn1): BatchNorm2d(256, eps=1e-05, momentum=0.1, affine=True, track_running_stats=True)\n",
       "      (conv2): Conv2d(256, 256, kernel_size=(3, 3), stride=(1, 1), padding=(1, 1), bias=False)\n",
       "      (bn2): BatchNorm2d(256, eps=1e-05, momentum=0.1, affine=True, track_running_stats=True)\n",
       "      (conv3): Conv2d(256, 1024, kernel_size=(1, 1), stride=(1, 1), bias=False)\n",
       "      (bn3): BatchNorm2d(1024, eps=1e-05, momentum=0.1, affine=True, track_running_stats=True)\n",
       "      (relu): ReLU(inplace=True)\n",
       "    )\n",
       "    (3): Bottleneck(\n",
       "      (conv1): Conv2d(1024, 256, kernel_size=(1, 1), stride=(1, 1), bias=False)\n",
       "      (bn1): BatchNorm2d(256, eps=1e-05, momentum=0.1, affine=True, track_running_stats=True)\n",
       "      (conv2): Conv2d(256, 256, kernel_size=(3, 3), stride=(1, 1), padding=(1, 1), bias=False)\n",
       "      (bn2): BatchNorm2d(256, eps=1e-05, momentum=0.1, affine=True, track_running_stats=True)\n",
       "      (conv3): Conv2d(256, 1024, kernel_size=(1, 1), stride=(1, 1), bias=False)\n",
       "      (bn3): BatchNorm2d(1024, eps=1e-05, momentum=0.1, affine=True, track_running_stats=True)\n",
       "      (relu): ReLU(inplace=True)\n",
       "    )\n",
       "    (4): Bottleneck(\n",
       "      (conv1): Conv2d(1024, 256, kernel_size=(1, 1), stride=(1, 1), bias=False)\n",
       "      (bn1): BatchNorm2d(256, eps=1e-05, momentum=0.1, affine=True, track_running_stats=True)\n",
       "      (conv2): Conv2d(256, 256, kernel_size=(3, 3), stride=(1, 1), padding=(1, 1), bias=False)\n",
       "      (bn2): BatchNorm2d(256, eps=1e-05, momentum=0.1, affine=True, track_running_stats=True)\n",
       "      (conv3): Conv2d(256, 1024, kernel_size=(1, 1), stride=(1, 1), bias=False)\n",
       "      (bn3): BatchNorm2d(1024, eps=1e-05, momentum=0.1, affine=True, track_running_stats=True)\n",
       "      (relu): ReLU(inplace=True)\n",
       "    )\n",
       "    (5): Bottleneck(\n",
       "      (conv1): Conv2d(1024, 256, kernel_size=(1, 1), stride=(1, 1), bias=False)\n",
       "      (bn1): BatchNorm2d(256, eps=1e-05, momentum=0.1, affine=True, track_running_stats=True)\n",
       "      (conv2): Conv2d(256, 256, kernel_size=(3, 3), stride=(1, 1), padding=(1, 1), bias=False)\n",
       "      (bn2): BatchNorm2d(256, eps=1e-05, momentum=0.1, affine=True, track_running_stats=True)\n",
       "      (conv3): Conv2d(256, 1024, kernel_size=(1, 1), stride=(1, 1), bias=False)\n",
       "      (bn3): BatchNorm2d(1024, eps=1e-05, momentum=0.1, affine=True, track_running_stats=True)\n",
       "      (relu): ReLU(inplace=True)\n",
       "    )\n",
       "  )\n",
       "  (layer4): Sequential(\n",
       "    (0): Bottleneck(\n",
       "      (conv1): Conv2d(1024, 512, kernel_size=(1, 1), stride=(1, 1), bias=False)\n",
       "      (bn1): BatchNorm2d(512, eps=1e-05, momentum=0.1, affine=True, track_running_stats=True)\n",
       "      (conv2): Conv2d(512, 512, kernel_size=(3, 3), stride=(2, 2), padding=(1, 1), bias=False)\n",
       "      (bn2): BatchNorm2d(512, eps=1e-05, momentum=0.1, affine=True, track_running_stats=True)\n",
       "      (conv3): Conv2d(512, 2048, kernel_size=(1, 1), stride=(1, 1), bias=False)\n",
       "      (bn3): BatchNorm2d(2048, eps=1e-05, momentum=0.1, affine=True, track_running_stats=True)\n",
       "      (relu): ReLU(inplace=True)\n",
       "      (downsample): Sequential(\n",
       "        (0): Conv2d(1024, 2048, kernel_size=(1, 1), stride=(2, 2), bias=False)\n",
       "        (1): BatchNorm2d(2048, eps=1e-05, momentum=0.1, affine=True, track_running_stats=True)\n",
       "      )\n",
       "    )\n",
       "    (1): Bottleneck(\n",
       "      (conv1): Conv2d(2048, 512, kernel_size=(1, 1), stride=(1, 1), bias=False)\n",
       "      (bn1): BatchNorm2d(512, eps=1e-05, momentum=0.1, affine=True, track_running_stats=True)\n",
       "      (conv2): Conv2d(512, 512, kernel_size=(3, 3), stride=(1, 1), padding=(1, 1), bias=False)\n",
       "      (bn2): BatchNorm2d(512, eps=1e-05, momentum=0.1, affine=True, track_running_stats=True)\n",
       "      (conv3): Conv2d(512, 2048, kernel_size=(1, 1), stride=(1, 1), bias=False)\n",
       "      (bn3): BatchNorm2d(2048, eps=1e-05, momentum=0.1, affine=True, track_running_stats=True)\n",
       "      (relu): ReLU(inplace=True)\n",
       "    )\n",
       "    (2): Bottleneck(\n",
       "      (conv1): Conv2d(2048, 512, kernel_size=(1, 1), stride=(1, 1), bias=False)\n",
       "      (bn1): BatchNorm2d(512, eps=1e-05, momentum=0.1, affine=True, track_running_stats=True)\n",
       "      (conv2): Conv2d(512, 512, kernel_size=(3, 3), stride=(1, 1), padding=(1, 1), bias=False)\n",
       "      (bn2): BatchNorm2d(512, eps=1e-05, momentum=0.1, affine=True, track_running_stats=True)\n",
       "      (conv3): Conv2d(512, 2048, kernel_size=(1, 1), stride=(1, 1), bias=False)\n",
       "      (bn3): BatchNorm2d(2048, eps=1e-05, momentum=0.1, affine=True, track_running_stats=True)\n",
       "      (relu): ReLU(inplace=True)\n",
       "    )\n",
       "  )\n",
       "  (avgpool): AdaptiveAvgPool2d(output_size=(1, 1))\n",
       "  (fc): Linear(in_features=2048, out_features=1000, bias=True)\n",
       ")"
      ]
     },
     "execution_count": 93,
     "metadata": {},
     "output_type": "execute_result"
    }
   ],
   "execution_count": 93
  },
  {
   "cell_type": "code",
   "id": "77c8b15f20bd65df",
   "metadata": {
    "ExecuteTime": {
     "end_time": "2025-04-26T16:36:13.709601Z",
     "start_time": "2025-04-26T16:36:13.705422Z"
    }
   },
   "source": [
    "len(class_names)"
   ],
   "outputs": [
    {
     "data": {
      "text/plain": [
       "4"
      ]
     },
     "execution_count": 85,
     "metadata": {},
     "output_type": "execute_result"
    }
   ],
   "execution_count": 85
  },
  {
   "cell_type": "code",
   "id": "32f0e875205cb356",
   "metadata": {
    "ExecuteTime": {
     "end_time": "2025-04-26T18:21:33.462303Z",
     "start_time": "2025-04-26T18:21:33.457783Z"
    }
   },
   "source": [
    "for param in model.parameters():\n",
    "    param.requires_grad = False"
   ],
   "outputs": [],
   "execution_count": 101
  },
  {
   "cell_type": "code",
   "id": "5c297ba6275f567e",
   "metadata": {
    "ExecuteTime": {
     "end_time": "2025-04-26T18:21:33.652583Z",
     "start_time": "2025-04-26T18:21:33.646495Z"
    }
   },
   "source": [
    "from torch import nn\n",
    "\n",
    "model.fc = torch.nn.Sequential(\n",
    "    nn.Dropout(p=0.2),\n",
    "    nn.Linear(in_features=2048, out_features=len(class_names))\n",
    ").to(device)"
   ],
   "outputs": [],
   "execution_count": 102
  },
  {
   "metadata": {
    "ExecuteTime": {
     "end_time": "2025-04-26T18:21:33.852583Z",
     "start_time": "2025-04-26T18:21:33.848170Z"
    }
   },
   "cell_type": "code",
   "source": [
    "for param in model.fc.parameters():\n",
    "    param.requires_grad = True"
   ],
   "id": "d3fd2787bc787c2c",
   "outputs": [],
   "execution_count": 103
  },
  {
   "cell_type": "code",
   "id": "1c8b9cd0658dca2e",
   "metadata": {
    "ExecuteTime": {
     "end_time": "2025-04-26T18:21:34.201607Z",
     "start_time": "2025-04-26T18:21:34.114887Z"
    }
   },
   "source": [
    "from torchinfo import summary\n",
    "\n",
    "summary(model=model.to(device),\n",
    "        input_size=(1, 3, 288, 288),\n",
    "        col_names=[\"input_size\", \"output_size\", \"num_params\", \"trainable\"],\n",
    "        col_width=20,\n",
    "        row_settings=[\"var_names\"],\n",
    "        device=device)"
   ],
   "outputs": [
    {
     "data": {
      "text/plain": [
       "========================================================================================================================\n",
       "Layer (type (var_name))                  Input Shape          Output Shape         Param #              Trainable\n",
       "========================================================================================================================\n",
       "ResNet (ResNet)                          [1, 3, 288, 288]     [1, 4]               --                   Partial\n",
       "├─Conv2d (conv1)                         [1, 3, 288, 288]     [1, 64, 144, 144]    (9,408)              False\n",
       "├─BatchNorm2d (bn1)                      [1, 64, 144, 144]    [1, 64, 144, 144]    (128)                False\n",
       "├─ReLU (relu)                            [1, 64, 144, 144]    [1, 64, 144, 144]    --                   --\n",
       "├─MaxPool2d (maxpool)                    [1, 64, 144, 144]    [1, 64, 72, 72]      --                   --\n",
       "├─Sequential (layer1)                    [1, 64, 72, 72]      [1, 256, 72, 72]     --                   False\n",
       "│    └─Bottleneck (0)                    [1, 64, 72, 72]      [1, 256, 72, 72]     --                   False\n",
       "│    │    └─Conv2d (conv1)               [1, 64, 72, 72]      [1, 64, 72, 72]      (4,096)              False\n",
       "│    │    └─BatchNorm2d (bn1)            [1, 64, 72, 72]      [1, 64, 72, 72]      (128)                False\n",
       "│    │    └─ReLU (relu)                  [1, 64, 72, 72]      [1, 64, 72, 72]      --                   --\n",
       "│    │    └─Conv2d (conv2)               [1, 64, 72, 72]      [1, 64, 72, 72]      (36,864)             False\n",
       "│    │    └─BatchNorm2d (bn2)            [1, 64, 72, 72]      [1, 64, 72, 72]      (128)                False\n",
       "│    │    └─ReLU (relu)                  [1, 64, 72, 72]      [1, 64, 72, 72]      --                   --\n",
       "│    │    └─Conv2d (conv3)               [1, 64, 72, 72]      [1, 256, 72, 72]     (16,384)             False\n",
       "│    │    └─BatchNorm2d (bn3)            [1, 256, 72, 72]     [1, 256, 72, 72]     (512)                False\n",
       "│    │    └─Sequential (downsample)      [1, 64, 72, 72]      [1, 256, 72, 72]     (16,896)             False\n",
       "│    │    └─ReLU (relu)                  [1, 256, 72, 72]     [1, 256, 72, 72]     --                   --\n",
       "│    └─Bottleneck (1)                    [1, 256, 72, 72]     [1, 256, 72, 72]     --                   False\n",
       "│    │    └─Conv2d (conv1)               [1, 256, 72, 72]     [1, 64, 72, 72]      (16,384)             False\n",
       "│    │    └─BatchNorm2d (bn1)            [1, 64, 72, 72]      [1, 64, 72, 72]      (128)                False\n",
       "│    │    └─ReLU (relu)                  [1, 64, 72, 72]      [1, 64, 72, 72]      --                   --\n",
       "│    │    └─Conv2d (conv2)               [1, 64, 72, 72]      [1, 64, 72, 72]      (36,864)             False\n",
       "│    │    └─BatchNorm2d (bn2)            [1, 64, 72, 72]      [1, 64, 72, 72]      (128)                False\n",
       "│    │    └─ReLU (relu)                  [1, 64, 72, 72]      [1, 64, 72, 72]      --                   --\n",
       "│    │    └─Conv2d (conv3)               [1, 64, 72, 72]      [1, 256, 72, 72]     (16,384)             False\n",
       "│    │    └─BatchNorm2d (bn3)            [1, 256, 72, 72]     [1, 256, 72, 72]     (512)                False\n",
       "│    │    └─ReLU (relu)                  [1, 256, 72, 72]     [1, 256, 72, 72]     --                   --\n",
       "│    └─Bottleneck (2)                    [1, 256, 72, 72]     [1, 256, 72, 72]     --                   False\n",
       "│    │    └─Conv2d (conv1)               [1, 256, 72, 72]     [1, 64, 72, 72]      (16,384)             False\n",
       "│    │    └─BatchNorm2d (bn1)            [1, 64, 72, 72]      [1, 64, 72, 72]      (128)                False\n",
       "│    │    └─ReLU (relu)                  [1, 64, 72, 72]      [1, 64, 72, 72]      --                   --\n",
       "│    │    └─Conv2d (conv2)               [1, 64, 72, 72]      [1, 64, 72, 72]      (36,864)             False\n",
       "│    │    └─BatchNorm2d (bn2)            [1, 64, 72, 72]      [1, 64, 72, 72]      (128)                False\n",
       "│    │    └─ReLU (relu)                  [1, 64, 72, 72]      [1, 64, 72, 72]      --                   --\n",
       "│    │    └─Conv2d (conv3)               [1, 64, 72, 72]      [1, 256, 72, 72]     (16,384)             False\n",
       "│    │    └─BatchNorm2d (bn3)            [1, 256, 72, 72]     [1, 256, 72, 72]     (512)                False\n",
       "│    │    └─ReLU (relu)                  [1, 256, 72, 72]     [1, 256, 72, 72]     --                   --\n",
       "├─Sequential (layer2)                    [1, 256, 72, 72]     [1, 512, 36, 36]     --                   False\n",
       "│    └─Bottleneck (0)                    [1, 256, 72, 72]     [1, 512, 36, 36]     --                   False\n",
       "│    │    └─Conv2d (conv1)               [1, 256, 72, 72]     [1, 128, 72, 72]     (32,768)             False\n",
       "│    │    └─BatchNorm2d (bn1)            [1, 128, 72, 72]     [1, 128, 72, 72]     (256)                False\n",
       "│    │    └─ReLU (relu)                  [1, 128, 72, 72]     [1, 128, 72, 72]     --                   --\n",
       "│    │    └─Conv2d (conv2)               [1, 128, 72, 72]     [1, 128, 36, 36]     (147,456)            False\n",
       "│    │    └─BatchNorm2d (bn2)            [1, 128, 36, 36]     [1, 128, 36, 36]     (256)                False\n",
       "│    │    └─ReLU (relu)                  [1, 128, 36, 36]     [1, 128, 36, 36]     --                   --\n",
       "│    │    └─Conv2d (conv3)               [1, 128, 36, 36]     [1, 512, 36, 36]     (65,536)             False\n",
       "│    │    └─BatchNorm2d (bn3)            [1, 512, 36, 36]     [1, 512, 36, 36]     (1,024)              False\n",
       "│    │    └─Sequential (downsample)      [1, 256, 72, 72]     [1, 512, 36, 36]     (132,096)            False\n",
       "│    │    └─ReLU (relu)                  [1, 512, 36, 36]     [1, 512, 36, 36]     --                   --\n",
       "│    └─Bottleneck (1)                    [1, 512, 36, 36]     [1, 512, 36, 36]     --                   False\n",
       "│    │    └─Conv2d (conv1)               [1, 512, 36, 36]     [1, 128, 36, 36]     (65,536)             False\n",
       "│    │    └─BatchNorm2d (bn1)            [1, 128, 36, 36]     [1, 128, 36, 36]     (256)                False\n",
       "│    │    └─ReLU (relu)                  [1, 128, 36, 36]     [1, 128, 36, 36]     --                   --\n",
       "│    │    └─Conv2d (conv2)               [1, 128, 36, 36]     [1, 128, 36, 36]     (147,456)            False\n",
       "│    │    └─BatchNorm2d (bn2)            [1, 128, 36, 36]     [1, 128, 36, 36]     (256)                False\n",
       "│    │    └─ReLU (relu)                  [1, 128, 36, 36]     [1, 128, 36, 36]     --                   --\n",
       "│    │    └─Conv2d (conv3)               [1, 128, 36, 36]     [1, 512, 36, 36]     (65,536)             False\n",
       "│    │    └─BatchNorm2d (bn3)            [1, 512, 36, 36]     [1, 512, 36, 36]     (1,024)              False\n",
       "│    │    └─ReLU (relu)                  [1, 512, 36, 36]     [1, 512, 36, 36]     --                   --\n",
       "│    └─Bottleneck (2)                    [1, 512, 36, 36]     [1, 512, 36, 36]     --                   False\n",
       "│    │    └─Conv2d (conv1)               [1, 512, 36, 36]     [1, 128, 36, 36]     (65,536)             False\n",
       "│    │    └─BatchNorm2d (bn1)            [1, 128, 36, 36]     [1, 128, 36, 36]     (256)                False\n",
       "│    │    └─ReLU (relu)                  [1, 128, 36, 36]     [1, 128, 36, 36]     --                   --\n",
       "│    │    └─Conv2d (conv2)               [1, 128, 36, 36]     [1, 128, 36, 36]     (147,456)            False\n",
       "│    │    └─BatchNorm2d (bn2)            [1, 128, 36, 36]     [1, 128, 36, 36]     (256)                False\n",
       "│    │    └─ReLU (relu)                  [1, 128, 36, 36]     [1, 128, 36, 36]     --                   --\n",
       "│    │    └─Conv2d (conv3)               [1, 128, 36, 36]     [1, 512, 36, 36]     (65,536)             False\n",
       "│    │    └─BatchNorm2d (bn3)            [1, 512, 36, 36]     [1, 512, 36, 36]     (1,024)              False\n",
       "│    │    └─ReLU (relu)                  [1, 512, 36, 36]     [1, 512, 36, 36]     --                   --\n",
       "│    └─Bottleneck (3)                    [1, 512, 36, 36]     [1, 512, 36, 36]     --                   False\n",
       "│    │    └─Conv2d (conv1)               [1, 512, 36, 36]     [1, 128, 36, 36]     (65,536)             False\n",
       "│    │    └─BatchNorm2d (bn1)            [1, 128, 36, 36]     [1, 128, 36, 36]     (256)                False\n",
       "│    │    └─ReLU (relu)                  [1, 128, 36, 36]     [1, 128, 36, 36]     --                   --\n",
       "│    │    └─Conv2d (conv2)               [1, 128, 36, 36]     [1, 128, 36, 36]     (147,456)            False\n",
       "│    │    └─BatchNorm2d (bn2)            [1, 128, 36, 36]     [1, 128, 36, 36]     (256)                False\n",
       "│    │    └─ReLU (relu)                  [1, 128, 36, 36]     [1, 128, 36, 36]     --                   --\n",
       "│    │    └─Conv2d (conv3)               [1, 128, 36, 36]     [1, 512, 36, 36]     (65,536)             False\n",
       "│    │    └─BatchNorm2d (bn3)            [1, 512, 36, 36]     [1, 512, 36, 36]     (1,024)              False\n",
       "│    │    └─ReLU (relu)                  [1, 512, 36, 36]     [1, 512, 36, 36]     --                   --\n",
       "├─Sequential (layer3)                    [1, 512, 36, 36]     [1, 1024, 18, 18]    --                   False\n",
       "│    └─Bottleneck (0)                    [1, 512, 36, 36]     [1, 1024, 18, 18]    --                   False\n",
       "│    │    └─Conv2d (conv1)               [1, 512, 36, 36]     [1, 256, 36, 36]     (131,072)            False\n",
       "│    │    └─BatchNorm2d (bn1)            [1, 256, 36, 36]     [1, 256, 36, 36]     (512)                False\n",
       "│    │    └─ReLU (relu)                  [1, 256, 36, 36]     [1, 256, 36, 36]     --                   --\n",
       "│    │    └─Conv2d (conv2)               [1, 256, 36, 36]     [1, 256, 18, 18]     (589,824)            False\n",
       "│    │    └─BatchNorm2d (bn2)            [1, 256, 18, 18]     [1, 256, 18, 18]     (512)                False\n",
       "│    │    └─ReLU (relu)                  [1, 256, 18, 18]     [1, 256, 18, 18]     --                   --\n",
       "│    │    └─Conv2d (conv3)               [1, 256, 18, 18]     [1, 1024, 18, 18]    (262,144)            False\n",
       "│    │    └─BatchNorm2d (bn3)            [1, 1024, 18, 18]    [1, 1024, 18, 18]    (2,048)              False\n",
       "│    │    └─Sequential (downsample)      [1, 512, 36, 36]     [1, 1024, 18, 18]    (526,336)            False\n",
       "│    │    └─ReLU (relu)                  [1, 1024, 18, 18]    [1, 1024, 18, 18]    --                   --\n",
       "│    └─Bottleneck (1)                    [1, 1024, 18, 18]    [1, 1024, 18, 18]    --                   False\n",
       "│    │    └─Conv2d (conv1)               [1, 1024, 18, 18]    [1, 256, 18, 18]     (262,144)            False\n",
       "│    │    └─BatchNorm2d (bn1)            [1, 256, 18, 18]     [1, 256, 18, 18]     (512)                False\n",
       "│    │    └─ReLU (relu)                  [1, 256, 18, 18]     [1, 256, 18, 18]     --                   --\n",
       "│    │    └─Conv2d (conv2)               [1, 256, 18, 18]     [1, 256, 18, 18]     (589,824)            False\n",
       "│    │    └─BatchNorm2d (bn2)            [1, 256, 18, 18]     [1, 256, 18, 18]     (512)                False\n",
       "│    │    └─ReLU (relu)                  [1, 256, 18, 18]     [1, 256, 18, 18]     --                   --\n",
       "│    │    └─Conv2d (conv3)               [1, 256, 18, 18]     [1, 1024, 18, 18]    (262,144)            False\n",
       "│    │    └─BatchNorm2d (bn3)            [1, 1024, 18, 18]    [1, 1024, 18, 18]    (2,048)              False\n",
       "│    │    └─ReLU (relu)                  [1, 1024, 18, 18]    [1, 1024, 18, 18]    --                   --\n",
       "│    └─Bottleneck (2)                    [1, 1024, 18, 18]    [1, 1024, 18, 18]    --                   False\n",
       "│    │    └─Conv2d (conv1)               [1, 1024, 18, 18]    [1, 256, 18, 18]     (262,144)            False\n",
       "│    │    └─BatchNorm2d (bn1)            [1, 256, 18, 18]     [1, 256, 18, 18]     (512)                False\n",
       "│    │    └─ReLU (relu)                  [1, 256, 18, 18]     [1, 256, 18, 18]     --                   --\n",
       "│    │    └─Conv2d (conv2)               [1, 256, 18, 18]     [1, 256, 18, 18]     (589,824)            False\n",
       "│    │    └─BatchNorm2d (bn2)            [1, 256, 18, 18]     [1, 256, 18, 18]     (512)                False\n",
       "│    │    └─ReLU (relu)                  [1, 256, 18, 18]     [1, 256, 18, 18]     --                   --\n",
       "│    │    └─Conv2d (conv3)               [1, 256, 18, 18]     [1, 1024, 18, 18]    (262,144)            False\n",
       "│    │    └─BatchNorm2d (bn3)            [1, 1024, 18, 18]    [1, 1024, 18, 18]    (2,048)              False\n",
       "│    │    └─ReLU (relu)                  [1, 1024, 18, 18]    [1, 1024, 18, 18]    --                   --\n",
       "│    └─Bottleneck (3)                    [1, 1024, 18, 18]    [1, 1024, 18, 18]    --                   False\n",
       "│    │    └─Conv2d (conv1)               [1, 1024, 18, 18]    [1, 256, 18, 18]     (262,144)            False\n",
       "│    │    └─BatchNorm2d (bn1)            [1, 256, 18, 18]     [1, 256, 18, 18]     (512)                False\n",
       "│    │    └─ReLU (relu)                  [1, 256, 18, 18]     [1, 256, 18, 18]     --                   --\n",
       "│    │    └─Conv2d (conv2)               [1, 256, 18, 18]     [1, 256, 18, 18]     (589,824)            False\n",
       "│    │    └─BatchNorm2d (bn2)            [1, 256, 18, 18]     [1, 256, 18, 18]     (512)                False\n",
       "│    │    └─ReLU (relu)                  [1, 256, 18, 18]     [1, 256, 18, 18]     --                   --\n",
       "│    │    └─Conv2d (conv3)               [1, 256, 18, 18]     [1, 1024, 18, 18]    (262,144)            False\n",
       "│    │    └─BatchNorm2d (bn3)            [1, 1024, 18, 18]    [1, 1024, 18, 18]    (2,048)              False\n",
       "│    │    └─ReLU (relu)                  [1, 1024, 18, 18]    [1, 1024, 18, 18]    --                   --\n",
       "│    └─Bottleneck (4)                    [1, 1024, 18, 18]    [1, 1024, 18, 18]    --                   False\n",
       "│    │    └─Conv2d (conv1)               [1, 1024, 18, 18]    [1, 256, 18, 18]     (262,144)            False\n",
       "│    │    └─BatchNorm2d (bn1)            [1, 256, 18, 18]     [1, 256, 18, 18]     (512)                False\n",
       "│    │    └─ReLU (relu)                  [1, 256, 18, 18]     [1, 256, 18, 18]     --                   --\n",
       "│    │    └─Conv2d (conv2)               [1, 256, 18, 18]     [1, 256, 18, 18]     (589,824)            False\n",
       "│    │    └─BatchNorm2d (bn2)            [1, 256, 18, 18]     [1, 256, 18, 18]     (512)                False\n",
       "│    │    └─ReLU (relu)                  [1, 256, 18, 18]     [1, 256, 18, 18]     --                   --\n",
       "│    │    └─Conv2d (conv3)               [1, 256, 18, 18]     [1, 1024, 18, 18]    (262,144)            False\n",
       "│    │    └─BatchNorm2d (bn3)            [1, 1024, 18, 18]    [1, 1024, 18, 18]    (2,048)              False\n",
       "│    │    └─ReLU (relu)                  [1, 1024, 18, 18]    [1, 1024, 18, 18]    --                   --\n",
       "│    └─Bottleneck (5)                    [1, 1024, 18, 18]    [1, 1024, 18, 18]    --                   False\n",
       "│    │    └─Conv2d (conv1)               [1, 1024, 18, 18]    [1, 256, 18, 18]     (262,144)            False\n",
       "│    │    └─BatchNorm2d (bn1)            [1, 256, 18, 18]     [1, 256, 18, 18]     (512)                False\n",
       "│    │    └─ReLU (relu)                  [1, 256, 18, 18]     [1, 256, 18, 18]     --                   --\n",
       "│    │    └─Conv2d (conv2)               [1, 256, 18, 18]     [1, 256, 18, 18]     (589,824)            False\n",
       "│    │    └─BatchNorm2d (bn2)            [1, 256, 18, 18]     [1, 256, 18, 18]     (512)                False\n",
       "│    │    └─ReLU (relu)                  [1, 256, 18, 18]     [1, 256, 18, 18]     --                   --\n",
       "│    │    └─Conv2d (conv3)               [1, 256, 18, 18]     [1, 1024, 18, 18]    (262,144)            False\n",
       "│    │    └─BatchNorm2d (bn3)            [1, 1024, 18, 18]    [1, 1024, 18, 18]    (2,048)              False\n",
       "│    │    └─ReLU (relu)                  [1, 1024, 18, 18]    [1, 1024, 18, 18]    --                   --\n",
       "├─Sequential (layer4)                    [1, 1024, 18, 18]    [1, 2048, 9, 9]      --                   False\n",
       "│    └─Bottleneck (0)                    [1, 1024, 18, 18]    [1, 2048, 9, 9]      --                   False\n",
       "│    │    └─Conv2d (conv1)               [1, 1024, 18, 18]    [1, 512, 18, 18]     (524,288)            False\n",
       "│    │    └─BatchNorm2d (bn1)            [1, 512, 18, 18]     [1, 512, 18, 18]     (1,024)              False\n",
       "│    │    └─ReLU (relu)                  [1, 512, 18, 18]     [1, 512, 18, 18]     --                   --\n",
       "│    │    └─Conv2d (conv2)               [1, 512, 18, 18]     [1, 512, 9, 9]       (2,359,296)          False\n",
       "│    │    └─BatchNorm2d (bn2)            [1, 512, 9, 9]       [1, 512, 9, 9]       (1,024)              False\n",
       "│    │    └─ReLU (relu)                  [1, 512, 9, 9]       [1, 512, 9, 9]       --                   --\n",
       "│    │    └─Conv2d (conv3)               [1, 512, 9, 9]       [1, 2048, 9, 9]      (1,048,576)          False\n",
       "│    │    └─BatchNorm2d (bn3)            [1, 2048, 9, 9]      [1, 2048, 9, 9]      (4,096)              False\n",
       "│    │    └─Sequential (downsample)      [1, 1024, 18, 18]    [1, 2048, 9, 9]      (2,101,248)          False\n",
       "│    │    └─ReLU (relu)                  [1, 2048, 9, 9]      [1, 2048, 9, 9]      --                   --\n",
       "│    └─Bottleneck (1)                    [1, 2048, 9, 9]      [1, 2048, 9, 9]      --                   False\n",
       "│    │    └─Conv2d (conv1)               [1, 2048, 9, 9]      [1, 512, 9, 9]       (1,048,576)          False\n",
       "│    │    └─BatchNorm2d (bn1)            [1, 512, 9, 9]       [1, 512, 9, 9]       (1,024)              False\n",
       "│    │    └─ReLU (relu)                  [1, 512, 9, 9]       [1, 512, 9, 9]       --                   --\n",
       "│    │    └─Conv2d (conv2)               [1, 512, 9, 9]       [1, 512, 9, 9]       (2,359,296)          False\n",
       "│    │    └─BatchNorm2d (bn2)            [1, 512, 9, 9]       [1, 512, 9, 9]       (1,024)              False\n",
       "│    │    └─ReLU (relu)                  [1, 512, 9, 9]       [1, 512, 9, 9]       --                   --\n",
       "│    │    └─Conv2d (conv3)               [1, 512, 9, 9]       [1, 2048, 9, 9]      (1,048,576)          False\n",
       "│    │    └─BatchNorm2d (bn3)            [1, 2048, 9, 9]      [1, 2048, 9, 9]      (4,096)              False\n",
       "│    │    └─ReLU (relu)                  [1, 2048, 9, 9]      [1, 2048, 9, 9]      --                   --\n",
       "│    └─Bottleneck (2)                    [1, 2048, 9, 9]      [1, 2048, 9, 9]      --                   False\n",
       "│    │    └─Conv2d (conv1)               [1, 2048, 9, 9]      [1, 512, 9, 9]       (1,048,576)          False\n",
       "│    │    └─BatchNorm2d (bn1)            [1, 512, 9, 9]       [1, 512, 9, 9]       (1,024)              False\n",
       "│    │    └─ReLU (relu)                  [1, 512, 9, 9]       [1, 512, 9, 9]       --                   --\n",
       "│    │    └─Conv2d (conv2)               [1, 512, 9, 9]       [1, 512, 9, 9]       (2,359,296)          False\n",
       "│    │    └─BatchNorm2d (bn2)            [1, 512, 9, 9]       [1, 512, 9, 9]       (1,024)              False\n",
       "│    │    └─ReLU (relu)                  [1, 512, 9, 9]       [1, 512, 9, 9]       --                   --\n",
       "│    │    └─Conv2d (conv3)               [1, 512, 9, 9]       [1, 2048, 9, 9]      (1,048,576)          False\n",
       "│    │    └─BatchNorm2d (bn3)            [1, 2048, 9, 9]      [1, 2048, 9, 9]      (4,096)              False\n",
       "│    │    └─ReLU (relu)                  [1, 2048, 9, 9]      [1, 2048, 9, 9]      --                   --\n",
       "├─AdaptiveAvgPool2d (avgpool)            [1, 2048, 9, 9]      [1, 2048, 1, 1]      --                   --\n",
       "├─Sequential (fc)                        [1, 2048]            [1, 4]               --                   True\n",
       "│    └─Dropout (0)                       [1, 2048]            [1, 2048]            --                   --\n",
       "│    └─Linear (1)                        [1, 2048]            [1, 4]               8,196                True\n",
       "========================================================================================================================\n",
       "Total params: 23,516,228\n",
       "Trainable params: 8,196\n",
       "Non-trainable params: 23,508,032\n",
       "Total mult-adds (Units.GIGABYTES): 6.76\n",
       "========================================================================================================================\n",
       "Input size (MB): 1.00\n",
       "Forward/backward pass size (MB): 293.95\n",
       "Params size (MB): 94.06\n",
       "Estimated Total Size (MB): 389.01\n",
       "========================================================================================================================"
      ]
     },
     "execution_count": 104,
     "metadata": {},
     "output_type": "execute_result"
    }
   ],
   "execution_count": 104
  },
  {
   "cell_type": "code",
   "id": "714c150773123694",
   "metadata": {
    "ExecuteTime": {
     "end_time": "2025-04-26T18:21:37.591349Z",
     "start_time": "2025-04-26T18:21:37.586024Z"
    }
   },
   "source": [
    "loss_fn = torch.nn.CrossEntropyLoss()\n",
    "optimizer = torch.optim.Adam(model.parameters(), lr=1e-4)"
   ],
   "outputs": [],
   "execution_count": 105
  },
  {
   "cell_type": "code",
   "id": "16418d14617e83a3",
   "metadata": {
    "ExecuteTime": {
     "end_time": "2025-04-26T19:03:32.512004Z",
     "start_time": "2025-04-26T18:21:39.200060Z"
    }
   },
   "source": [
    "import engine\n",
    "\n",
    "results = engine.train(model=model,\n",
    "                       train_dataloader=train_dataloader,\n",
    "                       test_dataloader=test_dataloader,\n",
    "                       loss_fn=loss_fn,\n",
    "                       optimizer=optimizer,\n",
    "                       epochs=5,\n",
    "                       device=device)"
   ],
   "outputs": [
    {
     "data": {
      "text/plain": [
       "  0%|          | 0/5 [00:00<?, ?it/s]"
      ],
      "application/vnd.jupyter.widget-view+json": {
       "version_major": 2,
       "version_minor": 0,
       "model_id": "414c7db07f594f6aa3d7cbdd3a3b637a"
      }
     },
     "metadata": {},
     "output_type": "display_data"
    },
    {
     "name": "stdout",
     "output_type": "stream",
     "text": [
      "Epoch: 1/5, Train Loss: 1.2369, Train Acc: 0.4402, Test Loss: 1.0304, Test Acc: 0.5403\n",
      "Epoch: 2/5, Train Loss: 1.1014, Train Acc: 0.5428, Test Loss: 0.9675, Test Acc: 0.5827\n",
      "Epoch: 3/5, Train Loss: 1.0385, Train Acc: 0.5730, Test Loss: 0.9177, Test Acc: 0.5792\n",
      "Epoch: 4/5, Train Loss: 0.9999, Train Acc: 0.5833, Test Loss: 0.8983, Test Acc: 0.5869\n"
     ]
    },
    {
     "name": "stderr",
     "output_type": "stream",
     "text": [
      "Exception ignored in: <function _MultiProcessingDataLoaderIter.__del__ at 0x000001CCB9210860>\n",
      "Traceback (most recent call last):\n",
      "  File \"C:\\Users\\sandu\\AppData\\Local\\Programs\\Python\\Python312\\Lib\\site-packages\\torch\\utils\\data\\dataloader.py\", line 1618, in __del__\n",
      "    self._shutdown_workers()\n",
      "  File \"C:\\Users\\sandu\\AppData\\Local\\Programs\\Python\\Python312\\Lib\\site-packages\\torch\\utils\\data\\dataloader.py\", line 1576, in _shutdown_workers\n",
      "    if self._persistent_workers or self._workers_status[worker_id]:\n",
      "                                   ^^^^^^^^^^^^^^^^^^^^\n",
      "AttributeError: '_MultiProcessingDataLoaderIter' object has no attribute '_workers_status'\n"
     ]
    },
    {
     "name": "stdout",
     "output_type": "stream",
     "text": [
      "Epoch: 5/5, Train Loss: 0.9712, Train Acc: 0.5935, Test Loss: 0.8803, Test Acc: 0.5992\n"
     ]
    }
   ],
   "execution_count": 106
  },
  {
   "cell_type": "code",
   "id": "a11f9b1dc1ac1043",
   "metadata": {
    "ExecuteTime": {
     "end_time": "2025-04-26T17:07:43.239842Z",
     "start_time": "2025-04-26T17:07:43.236574Z"
    }
   },
   "source": [],
   "outputs": [],
   "execution_count": null
  }
 ],
 "metadata": {
  "kernelspec": {
   "display_name": "Python 3 (ipykernel)",
   "language": "python",
   "name": "python3"
  },
  "language_info": {
   "codemirror_mode": {
    "name": "ipython",
    "version": 3
   },
   "file_extension": ".py",
   "mimetype": "text/x-python",
   "name": "python",
   "nbconvert_exporter": "python",
   "pygments_lexer": "ipython3",
   "version": "3.12.10"
  }
 },
 "nbformat": 4,
 "nbformat_minor": 5
}
